{
 "cells": [
  {
   "cell_type": "markdown",
   "metadata": {},
   "source": [
    "#### ex1:\n",
    "Input: strs = [\"flower\",\"flow\",\"flight\"]\n",
    "Output: \"fl\"\n",
    "\n",
    "#### ex2:\n",
    "Input: strs = [\"dog\",\"racecar\",\"car\"]\n",
    "Output: \"\"\n",
    "Explanation: There is no common prefix among the input strings."
   ]
  },
  {
   "cell_type": "code",
   "execution_count": 7,
   "metadata": {},
   "outputs": [],
   "source": [
    "# my submissions\n",
    "from typing import List\n",
    "\n",
    "class Solution:\n",
    "    def longestCommonPrefix(self, strs: List[str]) -> str:\n",
    "        if len(strs) < 1:\n",
    "            return \"\"\n",
    "        first_word = strs[0]\n",
    "        pre = \"\"\n",
    "        longest_pre = \"\"\n",
    "        pos = 0\n",
    "        while pos < len(first_word):\n",
    "            pre += first_word[pos]\n",
    "            for word in strs:\n",
    "                if word.startswith(pre):\n",
    "                    pass\n",
    "                else:\n",
    "                    return longest_pre\n",
    "            longest_pre = pre\n",
    "            pos += 1\n",
    "        return longest_pre\n",
    "            \n",
    "\n",
    "strs = [\"flower\",\"flow\",\"flight\"]\n",
    "sol = Solution()\n",
    "assert sol.longestCommonPrefix(\n",
    "    strs) == \"fl\", f\"get {sol.longestCommonPrefix(strs)} not except 'fl'\"\n",
    "\n",
    "strs = [\"dog\", \"racecar\", \"car\"]\n",
    "sol2 = Solution()\n",
    "assert sol2.longestCommonPrefix(\n",
    "    strs) == \"\", f\"get {sol.longestCommonPrefix(strs)} not except ''\"\n"
   ]
  },
  {
   "cell_type": "code",
   "execution_count": 8,
   "metadata": {},
   "outputs": [],
   "source": [
    "# best submission\n",
    "from typing import List\n",
    "\n",
    "class Solution:\n",
    "    def longestCommonPrefix(self, strs: List[str]) -> str:\n",
    "        pre = ''\n",
    "        for args in zip(*strs):\n",
    "            if all(arg == args[0] for arg in args):\n",
    "                    pre += args[0]\n",
    "            else:\n",
    "                break\n",
    "        return pre\n",
    "\n",
    "\n",
    "strs = [\"flower\", \"flow\", \"flight\"]\n",
    "sol = Solution()\n",
    "assert sol.longestCommonPrefix(\n",
    "    strs) == \"fl\", f\"get {sol.longestCommonPrefix(strs)} not except 'fl'\"\n",
    "\n",
    "strs = [\"dog\", \"racecar\", \"car\"]\n",
    "sol2 = Solution()\n",
    "assert sol2.longestCommonPrefix(\n",
    "    strs) == \"\", f\"get {sol.longestCommonPrefix(strs)} not except ''\"\n"
   ]
  }
 ],
 "metadata": {
  "kernelspec": {
   "display_name": "Python 3.8.10 64-bit",
   "language": "python",
   "name": "python3"
  },
  "language_info": {
   "codemirror_mode": {
    "name": "ipython",
    "version": 3
   },
   "file_extension": ".py",
   "mimetype": "text/x-python",
   "name": "python",
   "nbconvert_exporter": "python",
   "pygments_lexer": "ipython3",
   "version": "3.10.6"
  },
  "orig_nbformat": 4,
  "vscode": {
   "interpreter": {
    "hash": "916dbcbb3f70747c44a77c7bcd40155683ae19c65e1c03b4aa3499c5328201f1"
   }
  }
 },
 "nbformat": 4,
 "nbformat_minor": 2
}
