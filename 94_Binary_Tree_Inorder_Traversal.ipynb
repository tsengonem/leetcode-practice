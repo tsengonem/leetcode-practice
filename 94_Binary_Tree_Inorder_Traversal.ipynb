{
 "cells": [
  {
   "cell_type": "markdown",
   "metadata": {},
   "source": [
    "Given the root of a binary tree, return the inorder traversal of its nodes' values.\n",
    "\n",
    "#### ex1:\n",
    "Input: root = [1,null,2,3]\n",
    "Output: [1,3,2]\n",
    "\n",
    "#### ex2:\n",
    "Input: root = []\n",
    "Output: []\n",
    "\n",
    "#### ex3:\n",
    "Input: root = [1]\n",
    "Output: [1]"
   ]
  },
  {
   "cell_type": "code",
   "execution_count": null,
   "metadata": {},
   "outputs": [],
   "source": [
    "# my submissions\n",
    "from typing import Optional, List\n",
    "# Definition for a binary tree node.\n",
    "class TreeNode:\n",
    "    def __init__(self, val=0, left=None, right=None):\n",
    "        self.val = val\n",
    "        self.left = left\n",
    "        self.right = right\n",
    "\n",
    "\n",
    "class Solution:\n",
    "    def inorderTraversal(self, root: Optional[TreeNode]) -> List[int]:\n",
    "        result: list = []\n",
    "        result = self.inorderTraversal(\n",
    "            root.left) + [root.val] + self.inorderTraversal(root.right) if root else []\n",
    "        return result\n"
   ]
  },
  {
   "cell_type": "markdown",
   "metadata": {},
   "source": [
    "[<img src=\"./image/94_01.png\">](https://leetcode.com/problems/binary-tree-inorder-traversal/solutions/283746/all-dfs-traversals-preorder-inorder-postorder-in-python-in-1-line/?orderBy=most_votes&languageTags=python3)"
   ]
  },
  {
   "cell_type": "code",
   "execution_count": null,
   "metadata": {},
   "outputs": [],
   "source": [
    "# best submissions\n",
    "def preorder(root):\n",
    "  return [root.val] + preorder(root.left) + preorder(root.right) if root else []\n",
    "\n",
    "\n",
    "def inorder(root):\n",
    "  return inorder(root.left) + [root.val] + inorder(root.right) if root else []\n",
    "\n",
    "\n",
    "def postorder(root):\n",
    "  return postorder(root.left) + postorder(root.right) + [root.val] if root else []\n"
   ]
  }
 ],
 "metadata": {
  "kernelspec": {
   "display_name": "Python 3.10.6 64-bit",
   "language": "python",
   "name": "python3"
  },
  "language_info": {
   "name": "python",
   "version": "3.10.6"
  },
  "orig_nbformat": 4,
  "vscode": {
   "interpreter": {
    "hash": "e7370f93d1d0cde622a1f8e1c04877d8463912d04d973331ad4851f04de6915a"
   }
  }
 },
 "nbformat": 4,
 "nbformat_minor": 2
}
