{
 "cells": [
  {
   "cell_type": "markdown",
   "metadata": {},
   "source": [
    "Given the head of a singly linked list, return the middle node of the linked list.\n",
    "\n",
    "If there are two middle nodes, return the second middle node.\n",
    "\n",
    "#### ex1:\n",
    "Input: head = [1,2,3,4,5]\n",
    "Output: [3,4,5]\n",
    "Explanation: The middle node of the list is node 3.\n",
    "\n",
    "#### ex2:\n",
    "Input: head = [1,2,3,4,5,6]\n",
    "Output: [4,5,6]\n",
    "Explanation: Since the list has two middle nodes with values 3 and 4, we return the second one."
   ]
  },
  {
   "cell_type": "code",
   "execution_count": 18,
   "metadata": {},
   "outputs": [],
   "source": [
    "# my submissions\n",
    "from typing import Optional\n",
    "\n",
    "class ListNode:\n",
    "    def __init__(self, val=0, next=None):\n",
    "        self.val = val\n",
    "        self.next = next\n",
    "    \n",
    "    def areIdentical(self, listb):\n",
    "        a = self\n",
    "        b = listb\n",
    "\n",
    "        while (a != None and b != None):\n",
    "            if (a.val != b.val):\n",
    "                return False\n",
    "\n",
    "            a = a.next\n",
    "            b = b.next\n",
    "\n",
    "        return (a == None and b == None)\n",
    "\n",
    "\n",
    "class Solution:\n",
    "    def middleNode(self, head: Optional[ListNode]) -> Optional[ListNode]:\n",
    "        slow_point = fast_point = head\n",
    "        while fast_point and fast_point.next:\n",
    "            slow_point = slow_point.next\n",
    "            fast_point = fast_point.next.next\n",
    "\n",
    "        return slow_point\n",
    "\n",
    "\n",
    "head = None\n",
    "for x in [5,4,3,2,1]:\n",
    "    head = ListNode(x, next=head)\n",
    "\n",
    "expected_result = None\n",
    "for i in [5, 4, 3]:\n",
    "    expected_result = ListNode(i, next=expected_result)\n",
    "\n",
    "sol = Solution()\n",
    "result = sol.middleNode(head)\n",
    "assert result.areIdentical(\n",
    "    expected_result) == True, f\"get {result} not except [3, 4, 5]\"\n",
    "\n",
    "head = None\n",
    "for x in [6, 5, 4, 3, 2, 1]:\n",
    "    head = ListNode(x, next=head)\n",
    "\n",
    "expected_result = None\n",
    "for i in [6, 5, 4]:\n",
    "    expected_result = ListNode(i, next=expected_result)\n",
    "\n",
    "sol = Solution()\n",
    "result = sol.middleNode(head)\n",
    "assert result.areIdentical(\n",
    "    expected_result) == True, f\"get {result} not except [4, 5, 6]\"\n"
   ]
  }
 ],
 "metadata": {
  "kernelspec": {
   "display_name": "Python 3.10.6 64-bit",
   "language": "python",
   "name": "python3"
  },
  "language_info": {
   "codemirror_mode": {
    "name": "ipython",
    "version": 3
   },
   "file_extension": ".py",
   "mimetype": "text/x-python",
   "name": "python",
   "nbconvert_exporter": "python",
   "pygments_lexer": "ipython3",
   "version": "3.10.6"
  },
  "orig_nbformat": 4,
  "vscode": {
   "interpreter": {
    "hash": "e7370f93d1d0cde622a1f8e1c04877d8463912d04d973331ad4851f04de6915a"
   }
  }
 },
 "nbformat": 4,
 "nbformat_minor": 2
}
