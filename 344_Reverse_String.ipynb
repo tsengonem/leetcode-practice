{
 "cells": [
  {
   "cell_type": "markdown",
   "metadata": {},
   "source": [
    "Write a function that reverses a string. The input string is given as an array of characters s.\n",
    "\n",
    "You must do this by modifying the input array in-place with O(1) extra memory.\n",
    "#### ex1:\n",
    "Input: s = [\"h\",\"e\",\"l\",\"l\",\"o\"]\n",
    "Output: [\"o\",\"l\",\"l\",\"e\",\"h\"]\n",
    "\n",
    "#### ex2:\n",
    "Input: s = [\"H\",\"a\",\"n\",\"n\",\"a\",\"h\"]\n",
    "Output: [\"h\",\"a\",\"n\",\"n\",\"a\",\"H\"]"
   ]
  },
  {
   "cell_type": "code",
   "execution_count": null,
   "metadata": {},
   "outputs": [],
   "source": [
    "# my submissions\n",
    "from typing import List\n",
    "class Solution:\n",
    "    def reverseString(self, s: List[str]) -> None:\n",
    "        \"\"\"\n",
    "        Do not return anything, modify s in-place instead.\n",
    "        \"\"\"\n",
    "        first_idx = 0\n",
    "        end_idx = len(s) -1\n",
    "        while first_idx < end_idx:\n",
    "            s[first_idx], s[end_idx] = s[end_idx], s[first_idx]\n",
    "            first_idx += 1\n",
    "            end_idx -= 1\n",
    "\n",
    "\n",
    "s = [\"h\", \"e\", \"l\", \"l\", \"o\"]\n",
    "sol = Solution()\n",
    "sol.reverseString(s)\n",
    "assert s == [\"o\",\"l\",\"l\",\"e\",\"h\"], f\"s not except ['o','l','l','e','h']\"\n",
    "\n",
    "s2 = [\"H\", \"a\", \"n\", \"n\", \"a\", \"h\"]\n",
    "sol = Solution()\n",
    "sol.reverseString(s2)\n",
    "assert s2 == [\"h\",\"a\",\"n\",\"n\",\"a\",\"H\"], f\"s2 not except ['h','a','n','n','a','H']\""
   ]
  },
  {
   "cell_type": "code",
   "execution_count": 8,
   "metadata": {},
   "outputs": [
    {
     "name": "stdout",
     "output_type": "stream",
     "text": [
      "s[:]: ['h', 'e', 'l', 'l', 'o']\n",
      "s[::-1]: ['o', 'l', 'l', 'e', 'h']\n",
      "s[:]: ['H', 'a', 'n', 'n', 'a', 'h']\n",
      "s[::-1]: ['h', 'a', 'n', 'n', 'a', 'H']\n"
     ]
    }
   ],
   "source": [
    "# best submission\n",
    "class Solution:\n",
    "    def reverseString(self, s: List[str]) -> None:\n",
    "        \"\"\"\n",
    "        Do not return anything, modify s in-place instead.\n",
    "        \"\"\"\n",
    "        print(f's[:]: {s[:]}')\n",
    "        print(f's[::-1]: {s[::-1]}')\n",
    "        s[:] = s[::-1]\n",
    "\n",
    "\n",
    "# Note:\n",
    "# s[:] = s[::-1] is required NOT s = s[::-1] because you have to edit the list inplace.\n",
    "# Under the hood, s[:] = is editing the actual memory bytes s points to, and s = points the variable name s to other bytes in the memory.\n",
    "\n",
    "\n",
    "s = [\"h\", \"e\", \"l\", \"l\", \"o\"]\n",
    "sol = Solution()\n",
    "sol.reverseString(s)\n",
    "assert s == [\"o\",\"l\",\"l\",\"e\",\"h\"], f\"s not except ['o','l','l','e','h']\"\n",
    "\n",
    "s2 = [\"H\", \"a\", \"n\", \"n\", \"a\", \"h\"]\n",
    "sol = Solution()\n",
    "sol.reverseString(s2)\n",
    "assert s2 == [\"h\",\"a\",\"n\",\"n\",\"a\",\"H\"], f\"s2 not except ['h','a','n','n','a','H']\""
   ]
  }
 ],
 "metadata": {
  "kernelspec": {
   "display_name": "Python 3.10.6 64-bit",
   "language": "python",
   "name": "python3"
  },
  "language_info": {
   "codemirror_mode": {
    "name": "ipython",
    "version": 3
   },
   "file_extension": ".py",
   "mimetype": "text/x-python",
   "name": "python",
   "nbconvert_exporter": "python",
   "pygments_lexer": "ipython3",
   "version": "3.10.6"
  },
  "orig_nbformat": 4,
  "vscode": {
   "interpreter": {
    "hash": "e7370f93d1d0cde622a1f8e1c04877d8463912d04d973331ad4851f04de6915a"
   }
  }
 },
 "nbformat": 4,
 "nbformat_minor": 2
}
