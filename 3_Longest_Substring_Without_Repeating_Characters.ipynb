{
 "cells": [
  {
   "cell_type": "markdown",
   "metadata": {},
   "source": [
    "#### ex1:\n",
    "Input: s = \"abcabcbb\"\n",
    "Output: 3\n",
    "Explanation: The answer is \"abc\", with the length of 3.\n",
    "\n",
    "#### ex2:\n",
    "Input: s = \"bbbbb\"\n",
    "Output: 1\n",
    "Explanation: The answer is \"b\", with the length of 1.\n",
    "\n",
    "#### ex3:\n",
    "Input: s = \"pwwkew\"\n",
    "Output: 3\n",
    "Explanation: The answer is \"wke\", with the length of 3.\n",
    "Notice that the answer must be a substring, \"pwke\" is a subsequence and not a substring.\n"
   ]
  },
  {
   "cell_type": "code",
   "execution_count": 2,
   "metadata": {},
   "outputs": [],
   "source": [
    "# my submissions\n",
    "\n",
    "class Solution:\n",
    "    def lengthOfLongestSubstring(self, s: str) -> int:\n",
    "        if not s:\n",
    "            return 0\n",
    "        \n",
    "        l_point = 0\n",
    "        r_ponit = l_point + 1\n",
    "        longest_str = s[l_point]\n",
    "        longest_len = len(longest_str)\n",
    "        while r_ponit < len(s):\n",
    "            if s[r_ponit] not in longest_str:\n",
    "                longest_str += s[r_ponit]\n",
    "                r_ponit += 1\n",
    "                longest_len = len(longest_str) if len(longest_str) > longest_len else longest_len\n",
    "                continue\n",
    "            \n",
    "            longest_str = \"\"\n",
    "            l_point += 1\n",
    "            r_ponit = l_point + 1\n",
    "            longest_str = s[l_point]\n",
    "        \n",
    "        return longest_len\n",
    "\n",
    "\n",
    "\n",
    "s = \"abcabcbb\"\n",
    "sol = Solution()\n",
    "assert sol.lengthOfLongestSubstring(\n",
    "    s) == 3, f\"get {sol.lengthOfLongestSubstring(s)} not except 3\"\n",
    "\n",
    "s2 = \"bbbbb\"\n",
    "sol = Solution()\n",
    "assert sol.lengthOfLongestSubstring(\n",
    "    s2) == 1, f\"get {sol.lengthOfLongestSubstring(s)} not except 1\"\n",
    "\n",
    "s3 = \"pwwkew\"\n",
    "sol = Solution()\n",
    "assert sol.lengthOfLongestSubstring(\n",
    "    s3) == 3, f\"get {sol.lengthOfLongestSubstring(s)} not except 3\"\n"
   ]
  },
  {
   "cell_type": "code",
   "execution_count": 3,
   "metadata": {},
   "outputs": [],
   "source": [
    "# best submission\n",
    "\n",
    "class Solution:\n",
    "    def lengthOfLongestSubstring(self, s: str) -> int:\n",
    "        current_len = 0\n",
    "        max_len = 0\n",
    "        i = 0\n",
    "        s_len = len(s) - 1\n",
    "        unique_chars = set()\n",
    "        while i <= s_len:\n",
    "            unique_chars.add(s[i])\n",
    "            if len(unique_chars) != current_len:\n",
    "                current_len += 1\n",
    "                i += 1\n",
    "                continue\n",
    "\n",
    "            unique_chars.remove(s[i-current_len])\n",
    "            max_len = current_len if current_len >= max_len else max_len\n",
    "            current_len -= 1\n",
    "\n",
    "        return current_len if current_len >= max_len else max_len\n",
    "\n",
    "\n",
    "s = \"abcabcbb\"\n",
    "sol = Solution()\n",
    "assert sol.lengthOfLongestSubstring(\n",
    "    s) == 3, f\"get {sol.lengthOfLongestSubstring(s)} not except 3\"\n",
    "\n",
    "s2 = \"bbbbb\"\n",
    "sol = Solution()\n",
    "assert sol.lengthOfLongestSubstring(\n",
    "    s2) == 1, f\"get {sol.lengthOfLongestSubstring(s)} not except 1\"\n",
    "\n",
    "s3 = \"pwwkew\"\n",
    "sol = Solution()\n",
    "assert sol.lengthOfLongestSubstring(\n",
    "    s3) == 3, f\"get {sol.lengthOfLongestSubstring(s)} not except 3\"\n"
   ]
  }
 ],
 "metadata": {
  "kernelspec": {
   "display_name": "Python 3.11.0 64-bit",
   "language": "python",
   "name": "python3"
  },
  "language_info": {
   "codemirror_mode": {
    "name": "ipython",
    "version": 3
   },
   "file_extension": ".py",
   "mimetype": "text/x-python",
   "name": "python",
   "nbconvert_exporter": "python",
   "pygments_lexer": "ipython3",
   "version": "3.11.0"
  },
  "orig_nbformat": 4,
  "vscode": {
   "interpreter": {
    "hash": "949777d72b0d2535278d3dc13498b2535136f6dfe0678499012e853ee9abcab1"
   }
  }
 },
 "nbformat": 4,
 "nbformat_minor": 2
}
