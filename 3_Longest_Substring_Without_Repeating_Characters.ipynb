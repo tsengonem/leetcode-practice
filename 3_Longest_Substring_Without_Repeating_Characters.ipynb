{
 "cells": [
  {
   "cell_type": "markdown",
   "metadata": {},
   "source": [
    "#### ex1:\n",
    "Input: s = \"abcabcbb\"\n",
    "Output: 3\n",
    "Explanation: The answer is \"abc\", with the length of 3.\n",
    "\n",
    "#### ex2:\n",
    "Input: s = \"bbbbb\"\n",
    "Output: 1\n",
    "Explanation: The answer is \"b\", with the length of 1.\n",
    "\n",
    "#### ex3:\n",
    "Input: s = \"pwwkew\"\n",
    "Output: 3\n",
    "Explanation: The answer is \"wke\", with the length of 3.\n",
    "Notice that the answer must be a substring, \"pwke\" is a subsequence and not a substring.\n"
   ]
  },
  {
   "cell_type": "code",
   "execution_count": 10,
   "metadata": {},
   "outputs": [
    {
     "name": "stdout",
     "output_type": "stream",
     "text": [
      "a\n",
      "ab\n",
      "abc\n",
      "abca\n",
      "abcab\n",
      "abcabc\n",
      "abcabcb\n",
      "a\n",
      "ab\n",
      "abc\n",
      "abca\n",
      "abcab\n",
      "abcabc\n",
      "abcabcb\n"
     ]
    },
    {
     "ename": "AssertionError",
     "evalue": "get None not except 3",
     "output_type": "error",
     "traceback": [
      "\u001b[0;31m---------------------------------------------------------------------------\u001b[0m",
      "\u001b[0;31mAssertionError\u001b[0m                            Traceback (most recent call last)",
      "Cell \u001b[0;32mIn[10], line 20\u001b[0m\n\u001b[1;32m     18\u001b[0m s \u001b[39m=\u001b[39m \u001b[39m\"\u001b[39m\u001b[39mabcabcbb\u001b[39m\u001b[39m\"\u001b[39m\n\u001b[1;32m     19\u001b[0m sol \u001b[39m=\u001b[39m Solution()\n\u001b[0;32m---> 20\u001b[0m \u001b[39massert\u001b[39;00m sol\u001b[39m.\u001b[39mlengthOfLongestSubstring(\n\u001b[1;32m     21\u001b[0m     s) \u001b[39m==\u001b[39m \u001b[39m3\u001b[39m, \u001b[39mf\u001b[39m\u001b[39m\"\u001b[39m\u001b[39mget \u001b[39m\u001b[39m{\u001b[39;00msol\u001b[39m.\u001b[39mlengthOfLongestSubstring(s)\u001b[39m}\u001b[39;00m\u001b[39m not except 3\u001b[39m\u001b[39m\"\u001b[39m\n\u001b[1;32m     23\u001b[0m s2 \u001b[39m=\u001b[39m \u001b[39m\"\u001b[39m\u001b[39mbbbbb\u001b[39m\u001b[39m\"\u001b[39m\n\u001b[1;32m     24\u001b[0m sol \u001b[39m=\u001b[39m Solution()\n",
      "\u001b[0;31mAssertionError\u001b[0m: get None not except 3"
     ]
    }
   ],
   "source": [
    "# my submissions\n",
    "\n",
    "class Solution:\n",
    "    def lengthOfLongestSubstring(self, s: str) -> int:\n",
    "        if not s:\n",
    "            return 0\n",
    "        \n",
    "        l_point = 0\n",
    "        r_ponit = l_point + 1\n",
    "        longest_str = \"\"\n",
    "        while r_ponit < len(s):\n",
    "            if s[r_ponit] not in longest_str and s[r_ponit] != longest_str[-1:]:\n",
    "                if s[l_point] not in longest_str:\n",
    "                    longest_str += s[l_point]\n",
    "                longest_str += s[r_ponit]\n",
    "                r_ponit += 1\n",
    "            else:\n",
    "                longest_str = \"\"\n",
    "                l_point += 1\n",
    "                longest_str += s[l_point]\n",
    "\n",
    "\n",
    "\n",
    "s = \"abcabcbb\"\n",
    "sol = Solution()\n",
    "assert sol.lengthOfLongestSubstring(\n",
    "    s) == 3, f\"get {sol.lengthOfLongestSubstring(s)} not except 3\"\n",
    "\n",
    "s2 = \"bbbbb\"\n",
    "sol = Solution()\n",
    "assert sol.lengthOfLongestSubstring(\n",
    "    s2) == 1, f\"get {sol.lengthOfLongestSubstring(s)} not except 1\"\n",
    "\n",
    "s3 = \"pwwkew\"\n",
    "sol = Solution()\n",
    "assert sol.lengthOfLongestSubstring(\n",
    "    s3) == 3, f\"get {sol.lengthOfLongestSubstring(s)} not except 3\"\n"
   ]
  }
 ],
 "metadata": {
  "kernelspec": {
   "display_name": "Python 3.10.6 64-bit",
   "language": "python",
   "name": "python3"
  },
  "language_info": {
   "codemirror_mode": {
    "name": "ipython",
    "version": 3
   },
   "file_extension": ".py",
   "mimetype": "text/x-python",
   "name": "python",
   "nbconvert_exporter": "python",
   "pygments_lexer": "ipython3",
   "version": "3.10.6"
  },
  "orig_nbformat": 4,
  "vscode": {
   "interpreter": {
    "hash": "e7370f93d1d0cde622a1f8e1c04877d8463912d04d973331ad4851f04de6915a"
   }
  }
 },
 "nbformat": 4,
 "nbformat_minor": 2
}
