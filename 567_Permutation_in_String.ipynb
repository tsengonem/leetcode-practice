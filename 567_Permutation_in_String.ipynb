{
 "cells": [
  {
   "cell_type": "markdown",
   "metadata": {},
   "source": [
    "#### ex1:\n",
    "Input: s1 = \"ab\", s2 = \"eidbaooo\"\n",
    "Output: true\n",
    "Explanation: s2 contains one permutation of s1 (\"ba\").\n",
    "\n",
    "#### ex2:\n",
    "Input: s1 = \"ab\", s2 = \"eidboaoo\"\n",
    "Output: false"
   ]
  },
  {
   "cell_type": "code",
   "execution_count": null,
   "metadata": {},
   "outputs": [],
   "source": [
    "# my submissions\n",
    "class Solution:\n",
    "    def getCounter(self, s:str):\n",
    "        s_count = {}\n",
    "        for char_ in s:\n",
    "            s_count[char_] = 1 if char_ not in s_count else s_count[char_] + 1\n",
    "        return s_count\n",
    "\n",
    "    def checkInclusion(self, s1: str, s2: str) -> bool:\n",
    "        s1_count = self.getCounter(s1)\n",
    "        \n",
    "        for i in range(len(s2) - len(s1) + 1):\n",
    "            s2_count = self.getCounter(s2[i:len(s1)+i])\n",
    "            if s1_count == s2_count:\n",
    "                return True\n",
    "        return False\n",
    "   \n",
    "\n",
    "s1, s2 = \"ab\", \"eidbaooo\"\n",
    "sol = Solution()\n",
    "result = sol.checkInclusion(s1, s2)\n",
    "assert result == True, f\"get {result} not except True\"\n",
    "\n",
    "s1, s2 = \"ab\", \"eidboaoo\"\n",
    "sol = Solution()\n",
    "result = sol.checkInclusion(s1, s2)\n",
    "assert result == False, f\"get {result} not except False\"\n",
    "\n",
    "s1, s2 = \"adc\", \"dcda\"\n",
    "sol = Solution()\n",
    "result = sol.checkInclusion(s1, s2)\n",
    "assert result == True, f\"get {result} not except True\"\n",
    "\n",
    "s1, s2 = \"hello\", \"ooolleoooleh\"\n",
    "sol = Solution()\n",
    "result = sol.checkInclusion(s1, s2)\n",
    "assert result == False, f\"get {result} not except False\"\n"
   ]
  },
  {
   "cell_type": "code",
   "execution_count": 42,
   "metadata": {},
   "outputs": [],
   "source": [
    "# best submission\n",
    "import collections\n",
    "\n",
    "class Solution:\n",
    "    def checkInclusion(self, s1: str, s2: str) -> bool:\n",
    "        l1, l2 = len(s1), len(s2)\n",
    "        if l1 > l2:\n",
    "            return False\n",
    "        dicS1 = collections.Counter(s1)\n",
    "        dicS2 = collections.defaultdict(int)\n",
    "        for i in range(l1-1):\n",
    "            dicS2[s2[i]] += 1\n",
    "        j = 0\n",
    "        for i in range(l1-1, l2):\n",
    "            dicS2[s2[i]] += 1\n",
    "            if dicS2 == dicS1:\n",
    "                return True\n",
    "            dicS2[s2[j]] -= 1\n",
    "            if dicS2[s2[j]] == 0:\n",
    "                del dicS2[s2[j]]\n",
    "            j += 1\n",
    "        return False\n",
    "\n",
    "\n",
    "s1, s2 = \"ab\", \"eidbaooo\"\n",
    "sol = Solution()\n",
    "result = sol.checkInclusion(s1, s2)\n",
    "assert result == True, f\"get {result} not except True\"\n",
    "\n",
    "s1, s2 = \"ab\", \"eidboaoo\"\n",
    "sol = Solution()\n",
    "result = sol.checkInclusion(s1, s2)\n",
    "assert result == False, f\"get {result} not except False\"\n",
    "\n",
    "s1, s2 = \"adc\", \"dcda\"\n",
    "sol = Solution()\n",
    "result = sol.checkInclusion(s1, s2)\n",
    "assert result == True, f\"get {result} not except True\"\n",
    "\n",
    "s1, s2 = \"hello\", \"ooolleoooleh\"\n",
    "sol = Solution()\n",
    "result = sol.checkInclusion(s1, s2)\n",
    "assert result == False, f\"get {result} not except False\"\n"
   ]
  }
 ],
 "metadata": {
  "kernelspec": {
   "display_name": "Python 3.10.6 64-bit",
   "language": "python",
   "name": "python3"
  },
  "language_info": {
   "codemirror_mode": {
    "name": "ipython",
    "version": 3
   },
   "file_extension": ".py",
   "mimetype": "text/x-python",
   "name": "python",
   "nbconvert_exporter": "python",
   "pygments_lexer": "ipython3",
   "version": "3.10.6"
  },
  "orig_nbformat": 4,
  "vscode": {
   "interpreter": {
    "hash": "e7370f93d1d0cde622a1f8e1c04877d8463912d04d973331ad4851f04de6915a"
   }
  }
 },
 "nbformat": 4,
 "nbformat_minor": 2
}
